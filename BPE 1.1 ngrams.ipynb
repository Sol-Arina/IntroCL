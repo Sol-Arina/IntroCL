{
 "cells": [
  {
   "cell_type": "code",
   "execution_count": 1,
   "metadata": {},
   "outputs": [],
   "source": [
    "from collections import Counter\n",
    "import string\n",
    "from nltk.util import ngrams, everygrams"
   ]
  },
  {
   "cell_type": "code",
   "execution_count": 2,
   "metadata": {},
   "outputs": [],
   "source": [
    "text = '''In a hole in the ground there lived a hobbit. Not a nasty, dirty, wet hole, filled with the ends of worms and an oozy smell, nor yet a dry, bare, sandy hole with nothing in it to sit down on or to eat: it was a hobbit-hole, and that means comfort. It had a perfectly round door like a porthole, painted green, with a shiny yellow brass knob in the exact middle. The door opened on to a tube-shaped hall like a tunnel: a very comfortable tunnel without smoke, with panelled walls, and floors tiled and carpeted, provided with polished chairs, and lots and lots of pegs for hats and coats - the hobbit was fond of visitors. The tunnel wound on and on, going fairly but not quite straight into the side of the hill - The Hill, as all the people for many miles round called it - and many little round doors opened out of it, first on one side and then on another. No going upstairs for the hobbit: bedrooms, bathrooms, cellars, pantries (lots of these), wardrobes (he had whole rooms devoted to clothes), kitchens, dining-rooms, all were on the same floor, and indeed on the same passage. The best rooms were all on the lefthand side (going in), for these were the only ones to have windows, deep-set round windows looking over his garden, and meadows beyond, sloping down to the river.'''"
   ]
  },
  {
   "cell_type": "code",
   "execution_count": 3,
   "metadata": {},
   "outputs": [],
   "source": [
    "for symbol in string.punctuation:\n",
    "    text = text.lower().replace(symbol, '')\n",
    "text1 = list(text.replace(' ', ''))   "
   ]
  },
  {
   "cell_type": "code",
   "execution_count": 4,
   "metadata": {},
   "outputs": [],
   "source": [
    "bpe = set(text1) # Сначала добавляю в словарь алфавит\n",
    "\n",
    "testgrams = everygrams(text1) # все возможные N-граммы из текста\n",
    "frequency = Counter(list(testgrams)) # подсчитываем частотность каждой из возможных н-грамм"
   ]
  },
  {
   "cell_type": "code",
   "execution_count": 5,
   "metadata": {},
   "outputs": [],
   "source": [
    "while len(bpe) < 250:\n",
    "    for k, v in frequency.items():\n",
    "        if v > 2: # добавляю в словарь то, что встречается больше 2х раз\n",
    "            x = ''.join(k)\n",
    "            bpe.add(x)"
   ]
  },
  {
   "cell_type": "code",
   "execution_count": 6,
   "metadata": {},
   "outputs": [
    {
     "name": "stdout",
     "output_type": "stream",
     "text": [
      "## # ## ## ## #### ## #### # ###. ### # #####, ####, ## ##, #### ### ## ### ## ##### ### ## ### ####, ### ## # ##, ###, ### ## ### ### ## # ## ## #### ## ## ## ##: # ### # ###-##, ### ### #### ###. # ## # ######## #### ### ## # #####, #### ###, ### # #### ##### ##### #### ## ## ##### ####. ## ### ##### ## ## # ###-##### ## ## # #####: # ## ###### ##### #### ####, ### ###### ####, ### ##### ### ### ####, ###### ### ###### ####, ### ## ### ## ## ### ## ## ### #### - ## ### ### ### ## #######. ## ##### #### ## ### ##, ### #### ## ### #### ####### #### ## # ## ## ## - ## ##, ## ## ## #### ## #### #### #### ##### # - ### #### #### #### #### ##### ## ## #, #### ## ### # ### ### ## ####. ## ### ###### ## ## ###: ######, ######, #####, ###### (## ## ###), ####### (# ## ### ### ##### ## #####), ######, ###-###, ## # ## ## ### ####, ### ##### ## ## ### #####. ## #### ### # ## ## ## ###### # (### ##), ## ### # ## #### #### ## ### #######, ###-## #### ####### #### ## ## #####, ### ###### ######, ##### #### ## ## ###.\n"
     ]
    }
   ],
   "source": [
    "# проверка на исходном тексте\n",
    "texttest = '''In a hole in the ground there lived a hobbit. Not a nasty, dirty, wet hole, filled with the ends of worms and an oozy smell, nor yet a dry, bare, sandy hole with nothing in it to sit down on or to eat: it was a hobbit-hole, and that means comfort. It had a perfectly round door like a porthole, painted green, with a shiny yellow brass knob in the exact middle. The door opened on to a tube-shaped hall like a tunnel: a very comfortable tunnel without smoke, with panelled walls, and floors tiled and carpeted, provided with polished chairs, and lots and lots of pegs for hats and coats - the hobbit was fond of visitors. The tunnel wound on and on, going fairly but not quite straight into the side of the hill - The Hill, as all the people for many miles round called it - and many little round doors opened out of it, first on one side and then on another. No going upstairs for the hobbit: bedrooms, bathrooms, cellars, pantries (lots of these), wardrobes (he had whole rooms devoted to clothes), kitchens, dining-rooms, all were on the same floor, and indeed on the same passage. The best rooms were all on the lefthand side (going in), for these were the only ones to have windows, deep-set round windows looking over his garden, and meadows beyond, sloping down to the river.'''\n",
    "for item in bpe:\n",
    "    if item in texttest:\n",
    "        texttest = texttest.lower().replace(item, '#')\n",
    "print(texttest)"
   ]
  }
 ],
 "metadata": {
  "kernelspec": {
   "display_name": "Python 3",
   "language": "python",
   "name": "python3"
  },
  "language_info": {
   "codemirror_mode": {
    "name": "ipython",
    "version": 3
   },
   "file_extension": ".py",
   "mimetype": "text/x-python",
   "name": "python",
   "nbconvert_exporter": "python",
   "pygments_lexer": "ipython3",
   "version": "3.9.13"
  }
 },
 "nbformat": 4,
 "nbformat_minor": 2
}
